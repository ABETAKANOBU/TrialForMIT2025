{
 "cells": [
  {
   "cell_type": "code",
   "execution_count": 1,
   "metadata": {},
   "outputs": [],
   "source": [
    "import torch\n",
    "import torch.nn as nn\n"
   ]
  },
  {
   "cell_type": "code",
   "execution_count": 2,
   "metadata": {},
   "outputs": [],
   "source": [
    "import torch\n",
    "import torch.nn as nn\n",
    "\n",
    "class MyDenseLayer(nn.Module):\n",
    "    def __init__(self, input_dim, output_dim):\n",
    "        super(MyDenseLayer, self).__init__()\n",
    "        \n",
    "        # 重みとバイアスの初期化\n",
    "        self.W = nn.Parameter(torch.randn(input_dim, output_dim, requires_grad=True))\n",
    "        self.b = nn.Parameter(torch.randn(1, output_dim, requires_grad=True))\n",
    "\n",
    "    def forward(self, inputs):\n",
    "        \n",
    "\n",
    "        # 線形変換を実行: z = inputs × W + b\n",
    "        z = torch.matmul(inputs, self.W) + self.b\n",
    "\n",
    "        # 活性化関数(sigmoid)を通す\n",
    "        output = torch.sigmoid(z)\n",
    "        return output\n"
   ]
  },
  {
   "cell_type": "code",
   "execution_count": 3,
   "metadata": {},
   "outputs": [
    {
     "ename": "NameError",
     "evalue": "name 'm' is not defined",
     "output_type": "error",
     "traceback": [
      "\u001b[1;31m---------------------------------------------------------------------------\u001b[0m",
      "\u001b[1;31mNameError\u001b[0m                                 Traceback (most recent call last)",
      "Cell \u001b[1;32mIn[3], line 1\u001b[0m\n\u001b[1;32m----> 1\u001b[0m layer \u001b[38;5;241m=\u001b[39m nn\u001b[38;5;241m.\u001b[39mLinear(in_features \u001b[38;5;241m=\u001b[39m \u001b[43mm\u001b[49m, out_features \u001b[38;5;241m=\u001b[39m \u001b[38;5;241m2\u001b[39m)\n",
      "\u001b[1;31mNameError\u001b[0m: name 'm' is not defined"
     ]
    }
   ],
   "source": [
    "layer = nn.Linear(in_features = m, out_features = 2)"
   ]
  }
 ],
 "metadata": {
  "kernelspec": {
   "display_name": "forcompe",
   "language": "python",
   "name": "python3"
  },
  "language_info": {
   "codemirror_mode": {
    "name": "ipython",
    "version": 3
   },
   "file_extension": ".py",
   "mimetype": "text/x-python",
   "name": "python",
   "nbconvert_exporter": "python",
   "pygments_lexer": "ipython3",
   "version": "3.12.4"
  }
 },
 "nbformat": 4,
 "nbformat_minor": 2
}
