{
 "cells": [
  {
   "cell_type": "code",
   "execution_count": 2,
   "metadata": {},
   "outputs": [],
   "source": [
    "import tensorflow as tf"
   ]
  },
  {
   "cell_type": "code",
   "execution_count": 4,
   "metadata": {},
   "outputs": [],
   "source": [
    "class MyDendeLayer(tf.keras.layers.Layer):\n",
    "    def __init__(self,input_dim, output_dim):\n",
    "        super(MyDendeLayer,self).__init__()\n",
    "\n",
    "\n",
    "        #重みとバイアスの初期化\n",
    "        self.W = self.add_weight([input_dim, output_dim])\n",
    "        self.b = self.add_weight([1,output_dim])"
   ]
  },
  {
   "cell_type": "code",
   "execution_count": 5,
   "metadata": {},
   "outputs": [],
   "source": [
    "# モデルの入力を受け取って出力を返す関数。\n",
    "def call(self, inputs):\n",
    "\n",
    "    # 線形変換を実行: z = inputs × W + b\n",
    "    z = tf.matmul(inputs,self.W) + self.b\n",
    "\n",
    "    # 活性化関数(sigmoid)を通す\n",
    "    output = tf.math.sigmoid(z)\n",
    "    \n",
    "    \n",
    "    return output"
   ]
  },
  {
   "cell_type": "code",
   "execution_count": 7,
   "metadata": {},
   "outputs": [],
   "source": [
    "layer = tf.keras.layers.Dense(units = 2)"
   ]
  },
  {
   "cell_type": "code",
   "execution_count": null,
   "metadata": {},
   "outputs": [],
   "source": [
    "model = tf.keras.Sequential([\n",
    "    #出力ユニット数 n \n",
    "    tf.keras.layers.Dense(n),\n",
    "    tf.keras.layers.Dense(2),\n",
    "])"
   ]
  },
  {
   "cell_type": "code",
   "execution_count": null,
   "metadata": {},
   "outputs": [],
   "source": [
    "import tensorflow as tf\n",
    "# 順番に層を積み重ねるモデル（Sequentialモデル）を定義\n",
    "model = tf.keras.Sequential([\n",
    "    tf.keras.layers.Dense(n1), # 全結合層（ユニット数: n1）\n",
    "    tf.keras.layers.Dense(n2),# 同上\n",
    "    # ...\n",
    "    tf.keras.layers.Dense(2) # # 最終出力層（ユニット数: 2）\n",
    "])\n"
   ]
  },
  {
   "cell_type": "code",
   "execution_count": null,
   "metadata": {},
   "outputs": [],
   "source": [
    "#　MSEを計算\n",
    "loss = tf.reduce_mean(tf.square(tf.subtract(y, predicted)))\n",
    "\n",
    "#　Kerasの損失関数を使う\n",
    "loss = tf.keras.losses.MSE(y, predicted)"
   ]
  },
  {
   "cell_type": "code",
   "execution_count": null,
   "metadata": {},
   "outputs": [],
   "source": [
    "# 初期の重み（ランダムな値）を定義\n",
    "weights = tf.Variable([tf.random.normal(())])\n",
    "\n",
    "# 学習率（learning rate）を設定\n",
    "lr = 0.01  \n",
    "\n",
    "while True:  # 永遠にループ\n",
    "    # 自動微分のための記録を開始\n",
    "    with tf.GradientTape() as g:\n",
    "        # 損失（ロス）を計算する\n",
    "        loss = compute_loss(weights)  \n",
    "        \n",
    "        # 損失に対する重みの勾配を計算\n",
    "        gradient = g.gradient(loss, weights)\n",
    "\n",
    "    # 勾配降下法によって重みを更新\n",
    "    weights = weights - lr * gradient"
   ]
  }
 ],
 "metadata": {
  "kernelspec": {
   "display_name": "forcompe",
   "language": "python",
   "name": "python3"
  },
  "language_info": {
   "codemirror_mode": {
    "name": "ipython",
    "version": 3
   },
   "file_extension": ".py",
   "mimetype": "text/x-python",
   "name": "python",
   "nbconvert_exporter": "python",
   "pygments_lexer": "ipython3",
   "version": "3.12.4"
  }
 },
 "nbformat": 4,
 "nbformat_minor": 2
}
