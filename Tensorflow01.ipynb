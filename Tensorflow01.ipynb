{
 "cells": [
  {
   "cell_type": "code",
   "execution_count": null,
   "metadata": {},
   "outputs": [],
   "source": [
    "import tensorflow as tf"
   ]
  },
  {
   "cell_type": "code",
   "execution_count": 2,
   "metadata": {},
   "outputs": [],
   "source": [
    "class MyDendeLayer(tf.keras.layers.Layer):\n",
    "    def __init__(self,input_dim, output_dim):\n",
    "        super(MyDendeLayer,self).__init__()\n",
    "\n",
    "\n",
    "        #重みとバイアスの初期化\n",
    "        self.W = self.add_weight([input_dim, output_dim])\n",
    "        self.b = self.add_weight([1,output_dim])"
   ]
  },
  {
   "cell_type": "code",
   "execution_count": null,
   "metadata": {},
   "outputs": [],
   "source": [
    "# モデルの入力を受け取って出力を返す関数。\n",
    "def call(self, inputs):\n",
    "\n",
    "    # 線形変換を実行: z = inputs × W + b\n",
    "    z = tf.matmul(inputs,self.W) + self.b\n",
    "\n",
    "    # 活性化関数(sigmoid)を通す\n",
    "    output = tf.math.sigmoid(z)\n",
    "    \n",
    "    \n",
    "    return output"
   ]
  },
  {
   "cell_type": "code",
   "execution_count": null,
   "metadata": {},
   "outputs": [],
   "source": []
  }
 ],
 "metadata": {
  "kernelspec": {
   "display_name": "forcompe",
   "language": "python",
   "name": "python3"
  },
  "language_info": {
   "codemirror_mode": {
    "name": "ipython",
    "version": 3
   },
   "file_extension": ".py",
   "mimetype": "text/x-python",
   "name": "python",
   "nbconvert_exporter": "python",
   "pygments_lexer": "ipython3",
   "version": "3.12.4"
  }
 },
 "nbformat": 4,
 "nbformat_minor": 2
}
